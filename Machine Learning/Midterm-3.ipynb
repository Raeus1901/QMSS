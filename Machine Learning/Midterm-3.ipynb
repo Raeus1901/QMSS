{
  "nbformat": 4,
  "nbformat_minor": 0,
  "metadata": {
    "colab": {
      "provenance": []
    },
    "kernelspec": {
      "name": "python3",
      "display_name": "Python 3"
    },
    "language_info": {
      "name": "python"
    }
  },
  "cells": [
    {
      "cell_type": "markdown",
      "source": [
        "1.  Import the spam dataset and print the first six rows.  "
      ],
      "metadata": {
        "id": "TR8fmwJqRfsH"
      }
    },
    {
      "cell_type": "code",
      "source": [
        "#Import Python Libraries\n",
        "import numpy as np\n",
        "import scipy as sp\n",
        "import pandas as pd\n",
        "import matplotlib as mpl\n",
        "import seaborn as sns\n",
        "import sklearn as skl\n",
        "import os as os"
      ],
      "metadata": {
        "id": "jjgCX0NTSGii"
      },
      "execution_count": null,
      "outputs": []
    },
    {
      "cell_type": "code",
      "source": [
        "print(os.getcwd())"
      ],
      "metadata": {
        "colab": {
          "base_uri": "https://localhost:8080/"
        },
        "id": "TxIxaawMT2B4",
        "outputId": "4824ee6d-05b9-45dd-c551-3297cb43ecbe"
      },
      "execution_count": null,
      "outputs": [
        {
          "output_type": "stream",
          "name": "stdout",
          "text": [
            "/content\n"
          ]
        }
      ]
    },
    {
      "cell_type": "code",
      "source": [
        "from google.colab import drive\n",
        "drive.mount('/content/gdrive')\n",
        "spam_df = pd.read_csv (\"/content/gdrive/MyDrive/spam_dataset.csv\")"
      ],
      "metadata": {
        "colab": {
          "base_uri": "https://localhost:8080/"
        },
        "id": "BBCkx3whXiAR",
        "outputId": "588734ac-31da-4900-eb20-d5d85eeede24"
      },
      "execution_count": null,
      "outputs": [
        {
          "output_type": "stream",
          "name": "stdout",
          "text": [
            "Mounted at /content/gdrive\n"
          ]
        }
      ]
    },
    {
      "cell_type": "code",
      "source": [
        "spam_df.dtypes"
      ],
      "metadata": {
        "colab": {
          "base_uri": "https://localhost:8080/"
        },
        "id": "jKW15VnrXewT",
        "outputId": "b3c6b0b0-6bcd-4491-c5ba-8383994e2c7c"
      },
      "execution_count": null,
      "outputs": [
        {
          "output_type": "execute_result",
          "data": {
            "text/plain": [
              "word_freq_make:                float64\n",
              "word_freq_address:             float64\n",
              "word_freq_all:                 float64\n",
              "word_freq_3d:                  float64\n",
              "word_freq_our:                 float64\n",
              "word_freq_over:                float64\n",
              "word_freq_remove:              float64\n",
              "word_freq_internet:            float64\n",
              "word_freq_order:               float64\n",
              "word_freq_mail:                float64\n",
              "word_freq_receive:             float64\n",
              "word_freq_will:                float64\n",
              "word_freq_people:              float64\n",
              "word_freq_report:              float64\n",
              "word_freq_addresses:           float64\n",
              "word_freq_free:                float64\n",
              "word_freq_business:            float64\n",
              "word_freq_email:               float64\n",
              "word_freq_you:                 float64\n",
              "word_freq_credit:              float64\n",
              "word_freq_your:                float64\n",
              "word_freq_font:                float64\n",
              "word_freq_000:                 float64\n",
              "word_freq_money:               float64\n",
              "word_freq_hp:                  float64\n",
              "word_freq_hpl:                 float64\n",
              "word_freq_george:              float64\n",
              "word_freq_650:                 float64\n",
              "word_freq_lab:                 float64\n",
              "word_freq_labs:                float64\n",
              "word_freq_telnet:              float64\n",
              "word_freq_857:                 float64\n",
              "word_freq_data:                float64\n",
              "word_freq_415:                 float64\n",
              "word_freq_85:                  float64\n",
              "word_freq_technology:          float64\n",
              "word_freq_1999:                float64\n",
              "word_freq_parts:               float64\n",
              "word_freq_pm:                  float64\n",
              "word_freq_direct:              float64\n",
              "word_freq_cs:                  float64\n",
              "word_freq_meeting:             float64\n",
              "word_freq_original:            float64\n",
              "word_freq_project:             float64\n",
              "word_freq_re:                  float64\n",
              "word_freq_edu:                 float64\n",
              "word_freq_table:               float64\n",
              "word_freq_conference:          float64\n",
              "char_freq_;:                   float64\n",
              "char_freq_(:                   float64\n",
              "char_freq_[:                   float64\n",
              "char_freq_!:                   float64\n",
              "char_freq_$:                   float64\n",
              "char_freq_#:                   float64\n",
              "capital_run_length_average:    float64\n",
              "capital_run_length_longest:      int64\n",
              "capital_run_length_total:        int64\n",
              "spam                             int64\n",
              "dtype: object"
            ]
          },
          "metadata": {},
          "execution_count": 4
        }
      ]
    },
    {
      "cell_type": "markdown",
      "source": [
        "Most of the values are float.  "
      ],
      "metadata": {
        "id": "_DrgS5RWXj4H"
      }
    },
    {
      "cell_type": "markdown",
      "source": [
        "2.  Read through the documentation of the original dataset here:\n",
        "\n",
        "http://archive.ics.uci.edu/ml/machine-learning-databases/spambase/spambase.names\n",
        "\n",
        "The dependent variable is \"spam\" where one indicates that an email is spam and zero otherwise.  Which three variables in the dataset do you think will be important predictors in a model of spam?  Why?"
      ],
      "metadata": {
        "id": "nyEdX0YkRgU_"
      }
    },
    {
      "cell_type": "markdown",
      "source": [
        "There are two for which I am sure are crucial in affecting \"spam\":\n",
        "\n",
        "word_freq_free: The word \"free\" is commonly associated with promotional emails with dubious authencity. Spam emails often advertise something for \"free\" to lure users into clicking or making a purchase.\n",
        "\n",
        "char_freq_$: The dollar sign $ is frequently used in emails that are trying to sell something or those which might involve money scams. Many spam emails pertain to monetary transactions, get-rich-quick schemes, or fraudulent financial opportunities.\n",
        "\n",
        "Any of the variables such as capital_run_length_average, longest or capital_run_length_total can be relevant to analyze the dependent variable. However, the later two are in int64 format. We prefer using float values for Machine Learning, so that leaves:  \n",
        "\n",
        "capital_run_length_average: Spammers often use capital letters to grab attention. If an email contains long sequences of interrupted capital letters, then there would be a large amount of capital letters in the mail. This might be indicative of aggressive marketing tactics, which are common in spam."
      ],
      "metadata": {
        "id": "9-tu247waqjd"
      }
    },
    {
      "cell_type": "markdown",
      "source": [
        "3.  Visualize the univariate distribution of each of the variables in the previous question.  \n",
        "\n"
      ],
      "metadata": {
        "id": "J6iSwdWrR5_r"
      }
    },
    {
      "cell_type": "code",
      "source": [
        "print(spam_df.head())\n"
      ],
      "metadata": {
        "colab": {
          "base_uri": "https://localhost:8080/"
        },
        "id": "Koei0TIyd78t",
        "outputId": "6116ce36-8f3e-4c49-909c-7d1c5286e85a"
      },
      "execution_count": null,
      "outputs": [
        {
          "output_type": "stream",
          "name": "stdout",
          "text": [
            "   word_freq_make:  word_freq_address:  word_freq_all:  word_freq_3d:  \\\n",
            "0             0.00                0.64            0.64            0.0   \n",
            "1             0.21                0.28            0.50            0.0   \n",
            "2             0.06                0.00            0.71            0.0   \n",
            "3             0.00                0.00            0.00            0.0   \n",
            "4             0.00                0.00            0.00            0.0   \n",
            "\n",
            "   word_freq_our:  word_freq_over:  word_freq_remove:  word_freq_internet:  \\\n",
            "0            0.32             0.00               0.00                 0.00   \n",
            "1            0.14             0.28               0.21                 0.07   \n",
            "2            1.23             0.19               0.19                 0.12   \n",
            "3            0.63             0.00               0.31                 0.63   \n",
            "4            0.63             0.00               0.31                 0.63   \n",
            "\n",
            "   word_freq_order:  word_freq_mail:  ...  char_freq_;:  char_freq_(:  \\\n",
            "0              0.00             0.00  ...          0.00         0.000   \n",
            "1              0.00             0.94  ...          0.00         0.132   \n",
            "2              0.64             0.25  ...          0.01         0.143   \n",
            "3              0.31             0.63  ...          0.00         0.137   \n",
            "4              0.31             0.63  ...          0.00         0.135   \n",
            "\n",
            "   char_freq_[:  char_freq_!:  char_freq_$:  char_freq_#:  \\\n",
            "0           0.0         0.778         0.000         0.000   \n",
            "1           0.0         0.372         0.180         0.048   \n",
            "2           0.0         0.276         0.184         0.010   \n",
            "3           0.0         0.137         0.000         0.000   \n",
            "4           0.0         0.135         0.000         0.000   \n",
            "\n",
            "   capital_run_length_average:  capital_run_length_longest:  \\\n",
            "0                        3.756                           61   \n",
            "1                        5.114                          101   \n",
            "2                        9.821                          485   \n",
            "3                        3.537                           40   \n",
            "4                        3.537                           40   \n",
            "\n",
            "   capital_run_length_total:  spam  \n",
            "0                        278     1  \n",
            "1                       1028     1  \n",
            "2                       2259     1  \n",
            "3                        191     1  \n",
            "4                        191     1  \n",
            "\n",
            "[5 rows x 58 columns]\n"
          ]
        }
      ]
    },
    {
      "cell_type": "code",
      "source": [
        "import matplotlib.pyplot as plt\n",
        "\n",
        "variables = ['word_freq_free:', 'char_freq_$:', 'capital_run_length_average:']\n",
        "\n",
        "for var in variables:\n",
        "    plt.figure(figsize=(10, 6))\n",
        "    plt.hist(spam_df[var], bins=30, edgecolor='black', alpha=0.7)  # 30 bins is a common choice, but you can adjust as needed\n",
        "    plt.title(f'Histogram of {var}')\n",
        "    plt.xlabel(var)\n",
        "    plt.ylabel('Frequency')\n",
        "    plt.show()"
      ],
      "metadata": {
        "colab": {
          "base_uri": "https://localhost:8080/",
          "height": 1000
        },
        "id": "8IvK73kfcPLW",
        "outputId": "48a95573-27cb-4f4d-8ed8-21cbdf3a65f1"
      },
      "execution_count": null,
      "outputs": [
        {
          "output_type": "display_data",
          "data": {
            "text/plain": [
              "<Figure size 1000x600 with 1 Axes>"
            ],
            "image/png": "[encoded data removed]"
          },
          "metadata": {}
        },
        {
          "output_type": "display_data",
          "data": {
            "text/plain": [
              "<Figure size 1000x600 with 1 Axes>"
            ],
            "image/png": "[encoded data removed]"
          },
          "metadata": {}
        },
        {
          "output_type": "display_data",
          "data": {
            "text/plain": [
              "<Figure size 1000x600 with 1 Axes>"
            ],
            "image/png": "[encoded data removed]"
          },
          "metadata": {}
        }
      ]
    },
    {
      "cell_type": "markdown",
      "source": [
        "4. Name each of the supervised learning models that we have learned thus far that are used to predict dependent variables like \"spam\".   \n"
      ],
      "metadata": {
        "id": "rpY2fiVoRhth"
      }
    },
    {
      "cell_type": "markdown",
      "source": [
        "Logistic Regression: Logistic regression is often used for binary classification problems. It predicts the probability that a given value belongs to a particular category within a set of categories (in the case of binary, only two). Includes Lasso and Ridge\n",
        "\n",
        "Decision Trees: They split the data into subsets based on the value of input features. This results in a tree-like model of decisions.\n",
        "\n",
        "Random Forest: An ensemble method that creates a 'forest' of decision trees. Each tree is trained on a random subset of the data and makes its own predictions. The random forest algorithm then aggregates these predictions to produce a final result.\n",
        "\n",
        "Support Vector Machines (SVM): SVMs are used for both regression and classification problems. In classification, they work by finding the hyperplane that best divides a dataset into classes.\n",
        "\n",
        "\n",
        "K-Nearest Neighbors (KNN): For classification, KNN assigns a data point to the class most common among its 'k' closest data points in the training set."
      ],
      "metadata": {
        "id": "oYt_55zjgCS0"
      }
    },
    {
      "cell_type": "markdown",
      "source": [
        "5. Describe the importance of training and test data.  Why do we separate data into these subsets?\n",
        "\n"
      ],
      "metadata": {
        "id": "nReYNkyZRsGG"
      }
    },
    {
      "cell_type": "markdown",
      "source": [
        "The training data is used to \"teach\" the model. Based on this data, the algorithm adjusts its weights, parameters, or rules to map inputs to the correct outputs.  If this data is of good quality and is representative, the model will likely perform well on unseen data through its hyperparameters.\n",
        "\n",
        "The test data is used to evaluate the model's performance. After the model has been trained, it is exposed to this unseen data to determine how well it generalizes to new, previously unobserved inputs. A model with a dataset of good quality will correcly integrate new information to its structure, and more accurately interpreting the coeffecients so increasing its predicting capacity in real-life scenarios.\n",
        "\n",
        "Among the most important reason to dissociate the data into two sets is to avoid overfit: New information is processed through the training data, before integrating it in the test data as to better capture new events without the risk of generalization. Evaluating the model on test data permits to obtain unbiased estimate of its performance, as this data has not been seen during the training phase. The model becomes more realistic. Dividing the sets permit to compare the perfomances of diverse supervised learning model until finding the most accurate one, with lower risk of overfit."
      ],
      "metadata": {
        "id": "eiu291DTnHV0"
      }
    },
    {
      "cell_type": "markdown",
      "source": [
        "6. What is k-fold cross validation and what do we use it for?\n",
        "\n",
        "\n",
        "\n",
        "\n",
        "\n"
      ],
      "metadata": {
        "id": "tROS_7gTRtTL"
      }
    },
    {
      "cell_type": "markdown",
      "source": [
        "K-fold cross validation is a technique used to assess the performance of a machine learning model more robustly by measuring the similarity between k observations of the dataset. The main idea is to divide the training dataset into 'k' subset equally (or almost equally) sized neighboors. This process is repeated according to k parameter.\n",
        "\n",
        "K-fold is unique for taking the average of k different train/test split results than splitting the data in two sets. Every data point gets to be in a validation set exactly once and in a training set\n",
        "k-1 times. This ensures that all observations are used for both training and validation, making efficient use of available data. With different variations of k-subset accordingly to the training data and taking its average, the k-fold measures gives an accurate depiction of data while reducing its overfit tendency. Finally, the model incorporates hyperparameters which is perfect for analyzing dataset with hidden noises.  "
      ],
      "metadata": {
        "id": "QQLYNEqcsK3V"
      }
    },
    {
      "cell_type": "markdown",
      "source": [
        "7. How is k-fold cross validation different from stratified k-fold cross validation?\n",
        "\n"
      ],
      "metadata": {
        "id": "ua_n5DRERuZh"
      }
    },
    {
      "cell_type": "markdown",
      "source": [
        "K-fold cross validation randomly separates the dataset into k folds equal in size subsets, whereas stratified k-fold ensure that each fold of the dataset maintains the same proportion of observation/distribution of the target class as in the original dataset.\n",
        "\n",
        "In other words, stratified is an improved version of k-fold by guaranteeing each fold is representative of the overall distribution. The model eventually has a lower variance, and should have a higher predictive score than the regular k-fold model.\n",
        "\n",
        "K-fold is suited for regression as the data is already equalized. K stratifed fold is better in classification than k fold, as it guarantee that each class is adequately represented by each fold; espeicially useful when there is imbalanced distributions accross classes in the dataset."
      ],
      "metadata": {
        "id": "uR3WZG6PwCtO"
      }
    },
    {
      "cell_type": "markdown",
      "source": [
        "8. Choose one model from question four.  Split the data into training and test subsets.  Build a model with the three variables in the dataset that you think will be good predictors of \"spam\".  Describe why you chose any particular parameters for your model (e.g.- if you used KNN how did you decide to choose a specific value for k).  Run the model and evaluate prediction error in two ways: A) On test data directly and B) using k-fold cross-validation.  \n",
        "\n"
      ],
      "metadata": {
        "id": "433RJJCgRvUp"
      }
    },
    {
      "cell_type": "markdown",
      "source": [
        "Before getting deeper, both classifier and regression methods are relevant. Classification categorize as either spam (1) or not spam (0). Regreesion is better used in the realm of bayesian statistics. Classification is the most straight-forward so linear models are excluded. The main problem in this model is the unequal distribution accross the variables, so we want to test whatever this impact the performance of A.I to recognize spams. We should be aware of the presence of overfit when analyzing this dataset.\n",
        "\n",
        "Also, all the models will repeat cross validation 10 times such as cv=10. This is done for convernient reasons, and efficient results. Also, the test data will always represent 30% of teh overall data as the data consists of thousands of observationsn according to class distribution:\n",
        "\n",
        "Spam 1813 (39.4%)\n",
        "Non-Spam 2788 (60.6%)\n",
        "\n",
        "A test size of 30% provides a decent amount of data for testing. This means that performance metrics computed on the test set are likely to be stable (less variance in results), as compared to using a tiny test set.\n",
        "\n",
        "All the models will evaluate prediction error through the Matrix, classification reports and accuracy test score. The higher the score test is, the lower the accuracy error is."
      ],
      "metadata": {
        "id": "jp816uwrRGPs"
      }
    },
    {
      "cell_type": "markdown",
      "source": [
        "I'll start using a  logistic regression model with L1 regularization, with scaled data. I want to predict the probability of the mail being either a spam or not a spam. I use sacling methods to better capture the variables in a [0;1]interval. Lasso regularization is applied to shrink all the lesser important coefficients to 0. This leaves a better accuracy score as the model consider the ones affecting the most the target variable. I am choosing a c=100 coefficient to decrease the shrinkage of the lesser important scaled coefficients given the data might have classification problem in part to its skew-right univariate distribution. Neverthless, there could be a risk of overfitting by doing so."
      ],
      "metadata": {
        "id": "G3_YMZV8zbQa"
      }
    },
    {
      "cell_type": "code",
      "source": [
        "from sklearn.model_selection import train_test_split, cross_val_score\n",
        "from sklearn import preprocessing\n",
        "from sklearn.preprocessing import StandardScaler\n",
        "from sklearn.linear_model import Lasso\n",
        "\n",
        "#Split the data\n",
        "\n",
        "X = spam_df[['word_freq_free:', 'char_freq_$:', 'capital_run_length_average:']]\n",
        "y = spam_df['spam']\n",
        "\n",
        "X_train, X_test, y_train, y_test = train_test_split(X, y, test_size=0.3, random_state=42)\n",
        "\n",
        "scaler = StandardScaler()\n",
        "X_train_scaled = scaler.fit_transform(X_train)\n",
        "X_test_scaled = scaler.transform(X_test)\n",
        "\n",
        "\n"
      ],
      "metadata": {
        "id": "TOb6hZaV1MiB"
      },
      "execution_count": null,
      "outputs": []
    },
    {
      "cell_type": "code",
      "source": [
        "from sklearn.linear_model import LogisticRegression\n",
        "from sklearn.metrics import classification_report, confusion_matrix, accuracy_score\n",
        "from sklearn.model_selection import cross_val_score, GridSearchCV\n",
        "\n",
        "logreg = LogisticRegression(penalty='l1', solver='liblinear')\n",
        "param_grid = {\n",
        "    'C': [0.001, 0.01, 0.1, 1, 10, 100],\n",
        "}\n",
        "\n",
        "grid = GridSearchCV(logreg, param_grid=param_grid, cv=20)\n",
        "grid.fit(X_train, y_train)\n",
        "\n",
        "predicted_vals = logreg.predict(X_test_scaled)\n",
        "\n",
        "\n",
        "print(\"logreg.predict: {}\".format(predicted_vals))\n",
        "print(\"logreg.coef_: {}\".format(logreg.coef_))\n",
        "print(\"Training set score: {:.3f}\".format(logreg.score(X_train_scaled, y_train)))\n"
      ],
      "metadata": {
        "colab": {
          "base_uri": "https://localhost:8080/"
        },
        "id": "s8xW1sxV3lL2",
        "outputId": "a53e45f1-6940-4733-b49d-0624661ada80"
      },
      "execution_count": null,
      "outputs": [
        {
          "output_type": "stream",
          "name": "stdout",
          "text": [
            "logreg.predict: [1 0 0 ... 0 0 0]\n",
            "logreg.coef_: [[1.12263118 3.24063434 5.09826411]]\n",
            "Training set score: 0.826\n"
          ]
        }
      ]
    },
    {
      "cell_type": "code",
      "source": [
        "predicted_vals = logreg.predict(X_test_scaled)\n",
        "\n",
        "print(\"Test set score: {:.3f}\".format(logreg.score(X_test_scaled, y_test)))\n",
        "print(\"\\nConfusion Matrix:\")\n",
        "print(confusion_matrix(y_test, predicted_vals))\n",
        "\n",
        "# Classification Report\n",
        "print(\"\\nClassification Report:\")\n",
        "print(classification_report(y_test, predicted_vals))\n",
        "\n",
        "#Accuracy test eror is of 18%"
      ],
      "metadata": {
        "colab": {
          "base_uri": "https://localhost:8080/"
        },
        "id": "3RVXy3RfciWm",
        "outputId": "46964189-46ec-4874-fa92-d2f4d8b632f8"
      },
      "execution_count": null,
      "outputs": [
        {
          "output_type": "stream",
          "name": "stdout",
          "text": [
            "Test set score: 0.822\n",
            "\n",
            "Confusion Matrix:\n",
            "[[657  34]\n",
            " [171 289]]\n",
            "\n",
            "Classification Report:\n",
            "              precision    recall  f1-score   support\n",
            "\n",
            "           0       0.79      0.95      0.87       691\n",
            "           1       0.89      0.63      0.74       460\n",
            "\n",
            "    accuracy                           0.82      1151\n",
            "   macro avg       0.84      0.79      0.80      1151\n",
            "weighted avg       0.83      0.82      0.81      1151\n",
            "\n"
          ]
        }
      ]
    },
    {
      "cell_type": "code",
      "source": [
        "from sklearn.metrics import classification_report, confusion_matrix, accuracy_score\n",
        "\n",
        "scores = cross_val_score(logreg, X_train_scaled, y_train, cv=10)\n",
        "print(f\"Cross-validation mean score: {scores.mean():.3f}\")\n",
        "\n",
        "#Accuracy kfold eror is of 17.2%\n"
      ],
      "metadata": {
        "colab": {
          "base_uri": "https://localhost:8080/"
        },
        "id": "OREAeBKn5UTD",
        "outputId": "9923892a-7861-4c1b-9d9a-c4e6e5493286"
      },
      "execution_count": null,
      "outputs": [
        {
          "output_type": "stream",
          "name": "stdout",
          "text": [
            "Cross-validation mean score: 0.828\n"
          ]
        }
      ]
    },
    {
      "cell_type": "markdown",
      "source": [
        "9. Choose a second model from question four.  Using the same three variables in the dataset that you think will be good predictors of \"spam\".  Describe why you chose any particular parameters for your model (e.g.- if you used KNN how did you decide to choose a specific value for k).  Run the model and evaluate prediction error in two ways: A) On test data directly and B) using k-fold cross-validation.  Did this model predict test data better than your previous model?\n",
        "\n"
      ],
      "metadata": {
        "id": "bojJxBG5RwiF"
      }
    },
    {
      "cell_type": "markdown",
      "source": [
        "KNN is a non-parametric method, which means it doesn't make any assumptions about the underlying data distribution. It uses the training data itself to make predictions. In situations where patterns may emerge based on specific instances or where data points can be naturally clustered, KNN can perform well.\n",
        "\n",
        "Stratified is used to equalize the imbalances accross the distribution of the independent variables.  \n",
        "\n",
        "A smaller k can be more susceptible to noise in the dataset. As k increases, the decision boundary becomes smoother and less sensitive to individual data points. However, a very large can oversmooth and may not capture the intricacies of the data distribution. A value of 10 might be a middle-ground that captures patterns without being overly sensitive to noise."
      ],
      "metadata": {
        "id": "OpbYJqookZt_"
      }
    },
    {
      "cell_type": "code",
      "source": [
        "from sklearn.model_selection import train_test_split, cross_val_score\n",
        "from sklearn import preprocessing\n",
        "from sklearn.preprocessing import StandardScaler\n",
        "\n",
        "#Split the data\n",
        "\n",
        "X = spam_df[['word_freq_free:', 'char_freq_$:', 'capital_run_length_average:']]\n",
        "y = spam_df['spam']\n",
        "\n",
        "X_train, X_test, y_train, y_test = train_test_split(X, y, test_size=0.3, random_state=42)\n",
        "\n",
        "scaler = StandardScaler()\n",
        "X_train_scaled = scaler.fit_transform(X_train)\n",
        "X_test_scaled = scaler.transform(X_test)"
      ],
      "metadata": {
        "id": "oq1oHo4b6DHt"
      },
      "execution_count": null,
      "outputs": []
    },
    {
      "cell_type": "code",
      "source": [
        "from sklearn.neighbors import KNeighborsClassifier\n",
        "from sklearn.model_selection import StratifiedKFold\n",
        "from sklearn.model_selection import cross_val_score\n",
        "\n",
        "knn = KNeighborsClassifier(n_neighbors=10) # The parameters using GridSearch to produce results with more accuracy\n",
        "knn.fit(X_train_scaled, y_train)\n",
        "\n",
        "print(\"K-fold Training set score: {:.3f}\".format(knn.score(X_train_scaled, y_train)))\n"
      ],
      "metadata": {
        "colab": {
          "base_uri": "https://localhost:8080/"
        },
        "id": "xBqc3qdQ6FPq",
        "outputId": "17398c8f-22d3-49fb-88cc-cf3ec74c7fb6"
      },
      "execution_count": null,
      "outputs": [
        {
          "output_type": "stream",
          "name": "stdout",
          "text": [
            "K-fold Training set score: 0.867\n"
          ]
        }
      ]
    },
    {
      "cell_type": "code",
      "source": [
        "y_pred = knn.predict(X_test_scaled)\n",
        "print(\"K-fold on Test Data:\", accuracy_score(y_test, y_pred))\n",
        "print(\"\\nConfusion Matrix:\\n\", confusion_matrix(y_test, y_pred))\n",
        "print(\"\\nClassification Report:\\n\", classification_report(y_test, y_pred))\n",
        "\n",
        "#Accuracy eror test is of 16.5%"
      ],
      "metadata": {
        "colab": {
          "base_uri": "https://localhost:8080/"
        },
        "id": "DaE1dMqx6qUT",
        "outputId": "a3da6ed7-e9c2-413e-8e8d-476d3755372f"
      },
      "execution_count": null,
      "outputs": [
        {
          "output_type": "stream",
          "name": "stdout",
          "text": [
            "K-fold on Test Data: 0.835626357711803\n",
            "\n",
            "Confusion Matrix:\n",
            " [[735  69]\n",
            " [158 419]]\n",
            "\n",
            "Classification Report:\n",
            "               precision    recall  f1-score   support\n",
            "\n",
            "           0       0.82      0.91      0.87       804\n",
            "           1       0.86      0.73      0.79       577\n",
            "\n",
            "    accuracy                           0.84      1381\n",
            "   macro avg       0.84      0.82      0.83      1381\n",
            "weighted avg       0.84      0.84      0.83      1381\n",
            "\n"
          ]
        }
      ]
    },
    {
      "cell_type": "code",
      "source": [
        "skfold = StratifiedKFold(n_splits=5, shuffle=True, random_state=42)\n",
        "print(\"StratifiedKFold:\\n{}\".format(\n",
        "cross_val_score(knn, X_train_scaled, y_train, cv=skfold).mean()))\n",
        "print(f\"Cross-validation mean score: {scores.mean():.3f}\")\n",
        "\n",
        "#Accuracy kfold eror is of 17.2%"
      ],
      "metadata": {
        "colab": {
          "base_uri": "https://localhost:8080/"
        },
        "id": "XVeJ5uljeaiN",
        "outputId": "8af4c2d2-9759-4098-a118-124d05596997"
      },
      "execution_count": null,
      "outputs": [
        {
          "output_type": "stream",
          "name": "stdout",
          "text": [
            "StratifiedKFold:\n",
            "0.848447204968944\n",
            "Cross-validation mean score: 0.828\n"
          ]
        }
      ]
    },
    {
      "cell_type": "markdown",
      "source": [
        "The Stratified Knn model has a higher test score than the log model. Plus, the log model has a higher chance of overfit given a higher value gap between the test and training set. KNN remains a better option for its better accuracy scores, especially on the test, and less chance of overfit, despite having the same cv prediction error score of 17.2%. Given the similar value between the training and test score, it is safe to assume k=10 parameter is efficient.  "
      ],
      "metadata": {
        "id": "e_WiNufB5pdS"
      }
    },
    {
      "cell_type": "markdown",
      "source": [
        "10. Choose a third model from question four.  Using the same three variables in the dataset that you think will be good predictors of \"spam\".  Describe why you chose any particular parameters for your model (e.g.- if you used KNN how did you decide to choose a specific value for k). Run the model and evaluate prediction error in two ways: A) On test data directly and B) using k-fold cross-validation.  Did this model predict test data better than your previous models?\n",
        "\n"
      ],
      "metadata": {
        "id": "eBXrFKmQRxpq"
      }
    },
    {
      "cell_type": "markdown",
      "source": [
        "Decision trees are inherently interpretable models. They allow for clear visualization of the decision-making process, making them useful in scenarios where understanding the model's decisions is crucial. Their use in binary format is extremely useful thanks to their methods. Decision trees are non-parametric, so they don't assume a particular distribution of the data.\n",
        "\n",
        "A max depth of 5 can capture important patterns while remaining relatively simple. A tree that is allowed to grow too deep can become very specific to the training data, capturing noise and leading to overfitting.\n",
        "\n",
        "The number 42 doesn't have any intrinsic properties that make it special for machine learning. However, it's a popular choice in the programming world due to cultural reasons (it's known as \"the answer to the ultimate question of life, the universe, and everything\" from Douglas Adams' \"The Hitchhiker's Guide to the Galaxy\"). It's simply a way to introduce a consistent seed for randomness.By setting the random state, you ensure that the results are reproducible. Each time you run the algorithm with that random state, you'll get the same results."
      ],
      "metadata": {
        "id": "byHFmoL47Asd"
      }
    },
    {
      "cell_type": "code",
      "source": [
        "from sklearn.model_selection import train_test_split, cross_val_score\n",
        "from sklearn import preprocessing\n",
        "from sklearn.preprocessing import StandardScaler\n",
        "from sklearn.linear_model import Lasso\n",
        "\n",
        "#Split the data\n",
        "\n",
        "\n",
        "X = spam_df[['word_freq_free:', 'char_freq_$:', 'capital_run_length_average:']]\n",
        "y = spam_df['spam']\n",
        "\n",
        "X_train, X_test, y_train, y_test = train_test_split(X, y, test_size=0.3, random_state=42)\n",
        "\n",
        "scaler = StandardScaler()\n",
        "X_train_scaled = scaler.fit_transform(X_train)\n",
        "X_test_scaled = scaler.transform(X_test)"
      ],
      "metadata": {
        "id": "9ybpOZDb8Pa0"
      },
      "execution_count": null,
      "outputs": []
    },
    {
      "cell_type": "code",
      "source": [
        "from sklearn.tree import DecisionTreeClassifier\n",
        "from sklearn.model_selection import cross_val_score\n",
        "\n",
        "\n",
        "dtree = DecisionTreeClassifier(max_depth=5, random_state=42)\n",
        "dtree.fit(X_train_scaled, y_train)\n",
        "\n",
        "y_pred_tree = dtree.predict(X_test_scaled)\n",
        "\n",
        "\n",
        "print(\"Decision tree Training set score: {:.3f}\".format(dtree.score(X_train_scaled, y_train)))\n"
      ],
      "metadata": {
        "colab": {
          "base_uri": "https://localhost:8080/"
        },
        "id": "UNCqkTzd8Puy",
        "outputId": "2d9324d1-c731-464d-ea29-51c33e94fb25"
      },
      "execution_count": null,
      "outputs": [
        {
          "output_type": "stream",
          "name": "stdout",
          "text": [
            "Decision tree Training set score: 0.871\n"
          ]
        }
      ]
    },
    {
      "cell_type": "code",
      "source": [
        "from sklearn.metrics import accuracy_score, confusion_matrix, classification_report\n",
        "\n",
        "y_pred_tree = dtree.predict(X_test_scaled)\n",
        "print(\"Accuracy on test set:\", accuracy_score(y_test, y_pred_tree))\n",
        "print(\"\\nConfusion Matrix on test set:\\n\", confusion_matrix(y_test, y_pred_tree))\n",
        "print(\"\\nClassification Report on test set:\\n\", classification_report(y_test, y_pred_tree))\n",
        "\n",
        "#Accuracy error test is of 16.9%"
      ],
      "metadata": {
        "colab": {
          "base_uri": "https://localhost:8080/"
        },
        "id": "FoKHby5cP9aI",
        "outputId": "6e026b69-408a-4689-c9b1-0858a79684da"
      },
      "execution_count": null,
      "outputs": [
        {
          "output_type": "stream",
          "name": "stdout",
          "text": [
            "Accuracy on test set: 0.8312816799420709\n",
            "\n",
            "Confusion Matrix on test set:\n",
            " [[741  63]\n",
            " [170 407]]\n",
            "\n",
            "Classification Report on test set:\n",
            "               precision    recall  f1-score   support\n",
            "\n",
            "           0       0.81      0.92      0.86       804\n",
            "           1       0.87      0.71      0.78       577\n",
            "\n",
            "    accuracy                           0.83      1381\n",
            "   macro avg       0.84      0.81      0.82      1381\n",
            "weighted avg       0.84      0.83      0.83      1381\n",
            "\n"
          ]
        }
      ]
    },
    {
      "cell_type": "code",
      "source": [
        "scores_tree = cross_val_score(dtree, X_train_scaled, y_train, cv=10)\n",
        "print(f\"Decision Tree Cross-validation mean score: {scores_tree.mean():.3f}\")\n",
        "\n",
        "#Accuracy kfold eror is of 14.3%\n"
      ],
      "metadata": {
        "colab": {
          "base_uri": "https://localhost:8080/"
        },
        "id": "0EZIirfDml6E",
        "outputId": "2ccd80c0-6536-4185-84c8-b0fe74f8b3ef"
      },
      "execution_count": null,
      "outputs": [
        {
          "output_type": "stream",
          "name": "stdout",
          "text": [
            "Decision Tree Cross-validation mean score: 0.857\n"
          ]
        }
      ]
    },
    {
      "cell_type": "markdown",
      "source": [
        "The decision tree performs better than the Knn in its cv\n",
        "\n",
        "Knn\n",
        "  => 0.870 train score\n",
        "     0.845 test score\n",
        "     0.835 cv\n",
        "\n",
        "Decision tree\n",
        "      0.871 train\n",
        "      0.831 test\n",
        "      0.865 cv\n",
        "\n",
        "Subjectively, the KNN might be a better model thanks to lower overfit but decision tree perfoms better on cross-validation, so it can better recognize a pattern with a 14.3% for decision, much better than 16.5% for knn. I would pick decision tree for this reason because its what trains the most efficiently the machine with new information, despite KNN having better predictive capacities. Plus, decision trees are easy to use and so to detect hidden paterns. Finally, decison trees might become more efficient as they train the data in a simple way thanks to its binary format.\n"
      ],
      "metadata": {
        "id": "BaDtydRC6_mv"
      }
    },
    {
      "cell_type": "markdown",
      "source": [
        "11. Choose a fourth model from question four.  Using the same three variables in the dataset that you think will be good predictors of \"spam\".  Describe why you chose any particular parameters for your model (e.g.- if you used KNN how did you decide to choose a specific value for k). Run the model and evaluate prediction error in two ways: A) On test data directly and B) using k-fold cross-validation. Evaluate prediction error, did this model predict better than your previous models?\n",
        "\n"
      ],
      "metadata": {
        "id": "CRr0Pi-SRyyw"
      }
    },
    {
      "cell_type": "markdown",
      "source": [
        "One of the main advantages of Random Forest over a single decision tree is its ability to reduce overfitting. A single decision tree, especially if it's deep, can often memorize the training data, leading to excellent training accuracy but poor generalization to new data. Random Forest builds multiple trees (each one on a subset of the data and a subset of the features) and averages the results, leading to a more generalized and robust model. Given that spam datasets might have a large number of features (words, characters, metadata, etc.), understanding which features are the most indicative of spam can be very valuable.\n",
        "\n",
        "n=100 is the number of trees in the forest.  The more trees you add, the more robust and stable your model becomes (due to the law of large numbers). However, after a certain point, the benefits in accuracy start to diminish, and the computational cost continues to increase. For many datasets, around 100 trees bring the benefits of ensemble learning into effect without causing excessive computation. Still, 100 is a reasonable starting point or default value when specific tuning hasn't been performed."
      ],
      "metadata": {
        "id": "ajcEug9c-esp"
      }
    },
    {
      "cell_type": "code",
      "source": [
        "from sklearn.model_selection import train_test_split, cross_val_score\n",
        "from sklearn.preprocessing import StandardScaler\n",
        "from sklearn.ensemble import RandomForestClassifier\n",
        "from sklearn import metrics\n",
        "\n",
        "# Split the data\n",
        "X = spam_df[['word_freq_free:', 'char_freq_$:', 'capital_run_length_average:']]\n",
        "y = spam_df['spam']\n",
        "\n",
        "# Correcting the variable names and using the right dataset\n",
        "X_train, X_test, y_train, y_test = train_test_split(X, y, random_state=0)\n",
        "\n",
        "scaler = StandardScaler()\n",
        "X_train_scaled = scaler.fit_transform(X_train)\n",
        "X_test_scaled = scaler.transform(X_test)"
      ],
      "metadata": {
        "id": "iPT2PygE9dVI"
      },
      "execution_count": null,
      "outputs": []
    },
    {
      "cell_type": "code",
      "source": [
        "clf = RandomForestClassifier(n_estimators=100, random_state=42)\n",
        "clf.fit(X_train_scaled, y_train)\n",
        "clf.score(X_test_scaled,y_test)\n",
        "\n",
        "\n",
        "print(\"Training set score: {:.3f}\".format(clf.score(X_train_scaled, y_train)))\n"
      ],
      "metadata": {
        "colab": {
          "base_uri": "https://localhost:8080/"
        },
        "id": "DvUYAOOR9dxC",
        "outputId": "72ad73b2-15ed-439e-f2d1-9fb26791ee9e"
      },
      "execution_count": null,
      "outputs": [
        {
          "output_type": "stream",
          "name": "stdout",
          "text": [
            "Training set score: 0.969\n"
          ]
        }
      ]
    },
    {
      "cell_type": "code",
      "source": [
        "y_pred = clf.predict(X_test_scaled)\n",
        "print(\"Test Set Accuracy:\", metrics.accuracy_score(y_test, y_pred))\n",
        "print(\"\\nConfusion Matrix on test set:\\n\", metrics.confusion_matrix(y_test, y_pred))\n",
        "print(\"\\nClassification Report on test set:\\n\", metrics.classification_report(y_test, y_pred))\n",
        "\n",
        "#Accuracy test eror is of 17.3%"
      ],
      "metadata": {
        "colab": {
          "base_uri": "https://localhost:8080/"
        },
        "id": "p-_tiPpz9eSD",
        "outputId": "f4211b4d-6345-4062-d8fa-95839e38d2f1"
      },
      "execution_count": null,
      "outputs": [
        {
          "output_type": "stream",
          "name": "stdout",
          "text": [
            "Test Set Accuracy: 0.8279756733275413\n",
            "\n",
            "Confusion Matrix on test set:\n",
            " [[606  85]\n",
            " [113 347]]\n",
            "\n",
            "Classification Report on test set:\n",
            "               precision    recall  f1-score   support\n",
            "\n",
            "           0       0.84      0.88      0.86       691\n",
            "           1       0.80      0.75      0.78       460\n",
            "\n",
            "    accuracy                           0.83      1151\n",
            "   macro avg       0.82      0.82      0.82      1151\n",
            "weighted avg       0.83      0.83      0.83      1151\n",
            "\n"
          ]
        }
      ]
    },
    {
      "cell_type": "code",
      "source": [
        "cv_scores = cross_val_score(clf, X_train_scaled, y_train, cv=10)\n",
        "print(\"Mean CV Accuracy:\", cv_scores.mean())\n",
        "\n",
        "#Accuracy kfold eror is of 16.5%\n"
      ],
      "metadata": {
        "colab": {
          "base_uri": "https://localhost:8080/"
        },
        "id": "oNpdQkiF9eDO",
        "outputId": "f505ca7e-a10a-4a14-b10e-e9b7cafc48ef"
      },
      "execution_count": null,
      "outputs": [
        {
          "output_type": "stream",
          "name": "stdout",
          "text": [
            "Mean CV Accuracy: 0.8356521739130436\n"
          ]
        }
      ]
    },
    {
      "cell_type": "markdown",
      "source": [
        "The Random Forest has lower test set results than Strat KNN and decison tree with a test set accuracy 82.7%. It has also a much lower  cv score than decision tree. Also, Random Forest  comes with a potential high gap between the test and trainin set for random Forest, rendering it very sensitive to overfit. Part of the reason comes due its high complexity. For this reason, I chose Decision tree"
      ],
      "metadata": {
        "id": "1rwkPIkQ961s"
      }
    },
    {
      "cell_type": "markdown",
      "source": [
        "12. Now rerun your best model from questions 8 through 11, but this time add three new variables to the model that you think will increase prediction accuracy.   Did this model predict test data better than your previous models?  \n",
        "\n"
      ],
      "metadata": {
        "id": "EiEhGtvrRz0X"
      }
    },
    {
      "cell_type": "markdown",
      "source": [
        "I chose decision tree because it has high cross validation score and the second best-score for test data, close to the values produced by Random Walk. It performs better then Stratified Knn while ensuring a much lower risk of overfit than Random Forest.\n",
        "\n",
        "After reading the documentation on the midterm folder, I decided to change my choices based on objective numbers rather than subjectively as before.\n",
        "\n",
        "word_freq_000: with an average of 0.80976 and coefficient of variation of 148%. Notion a number finishing by 000, like Win 10000$ which is spam\n",
        "\n",
        "\n",
        "word_freq_your: with an average of 1.6621 and coefficient of variation of 107%. Your can link to a personal element attracting the person to clike\n",
        "\n",
        "word_freq_make: with an average of 0.10455 and a coefficient of variation of 292%. Make relates a choice like make money easy, common in spams\n",
        "\n",
        "Let's redo the Decision tree with these new variables\n",
        "\n",
        "\n",
        "\n"
      ],
      "metadata": {
        "id": "dIbl03N_tDpi"
      }
    },
    {
      "cell_type": "code",
      "source": [
        "X = spam_df[['word_freq_free:', 'char_freq_$:', 'word_freq_000:',\n",
        "             'word_freq_your:', 'word_freq_make:', 'capital_run_length_average:']]\n",
        "y = spam_df['spam']\n",
        "\n",
        "# Splitting data\n",
        "X_train, X_test, y_train, y_test = train_test_split(X, y, test_size=0.3, random_state=42)\n",
        "\n",
        "# Scaling\n",
        "scaler = StandardScaler()\n",
        "X_train_scaled = scaler.fit_transform(X_train)\n",
        "X_test_scaled = scaler.transform(X_test)\n"
      ],
      "metadata": {
        "id": "itm3Tpfyw6oZ"
      },
      "execution_count": null,
      "outputs": []
    },
    {
      "cell_type": "code",
      "source": [
        "dtree = DecisionTreeClassifier(max_depth=5, random_state=42)\n",
        "dtree.fit(X_train_scaled, y_train)\n",
        "\n",
        "print(\"Decision tree Training set score: {:.3f}\".format(dtree.score(X_train_scaled, y_train)))\n"
      ],
      "metadata": {
        "colab": {
          "base_uri": "https://localhost:8080/"
        },
        "id": "AeH3KsEbw90j",
        "outputId": "702d002c-1aa1-4a76-e0e9-2d3fb2797c70"
      },
      "execution_count": null,
      "outputs": [
        {
          "output_type": "stream",
          "name": "stdout",
          "text": [
            "Decision tree Training set score: 0.887\n"
          ]
        }
      ]
    },
    {
      "cell_type": "code",
      "source": [
        "y_pred_tree = dtree.predict(X_test_scaled)\n",
        "print(\"Accuracy on test set:\", accuracy_score(y_test, y_pred_tree))\n",
        "print(\"\\nConfusion Matrix on test set:\\n\", confusion_matrix(y_test, y_pred_tree))\n",
        "print(\"\\nClassification Report on test set:\\n\", classification_report(y_test, y_pred_tree))\n",
        "\n",
        "#Accuracy test error is of 14.8%"
      ],
      "metadata": {
        "colab": {
          "base_uri": "https://localhost:8080/"
        },
        "id": "dkBv7PiLxBbM",
        "outputId": "7a7c0cf2-f7f6-4ac0-e9bd-c462ba2874a4"
      },
      "execution_count": null,
      "outputs": [
        {
          "output_type": "stream",
          "name": "stdout",
          "text": [
            "Accuracy on test set: 0.8522809558291093\n",
            "\n",
            "Confusion Matrix on test set:\n",
            " [[729  75]\n",
            " [129 448]]\n",
            "\n",
            "Classification Report on test set:\n",
            "               precision    recall  f1-score   support\n",
            "\n",
            "           0       0.85      0.91      0.88       804\n",
            "           1       0.86      0.78      0.81       577\n",
            "\n",
            "    accuracy                           0.85      1381\n",
            "   macro avg       0.85      0.84      0.85      1381\n",
            "weighted avg       0.85      0.85      0.85      1381\n",
            "\n"
          ]
        }
      ]
    },
    {
      "cell_type": "code",
      "source": [
        "scores_tree = cross_val_score(dtree, X_train_scaled, y_train, cv=10)\n",
        "print(f\"Decision Tree Cross-validation mean score: {scores_tree.mean():.3f}\")\n",
        "\n",
        "#Accuracy kfold eror is of 13.5%\n"
      ],
      "metadata": {
        "colab": {
          "base_uri": "https://localhost:8080/"
        },
        "id": "V3F3Fsj5xCvk",
        "outputId": "65aec048-9869-47dc-8e47-0030fe3d3834"
      },
      "execution_count": null,
      "outputs": [
        {
          "output_type": "stream",
          "name": "stdout",
          "text": [
            "Decision Tree Cross-validation mean score: 0.865\n"
          ]
        }
      ]
    },
    {
      "cell_type": "markdown",
      "source": [
        "Yes it did, with a higher cv score by an increase of 0.008 points, higher test score of 0.852 and a reduced overfit with training at 0.887 so 0.005 points.\n",
        "\n",
        "NOTE: After sufficiently training the machine, it seems adding new variables no longer increase the predictive capacities of decision tree and random forest."
      ],
      "metadata": {
        "id": "NpLVmqmQAH1X"
      }
    },
    {
      "cell_type": "markdown",
      "source": [
        "13. Rerun all your other models with this final set of six variables, evaluate prediction error, and choose a final model.  Why did you select this model among all of the models that you ran?  \n",
        "\n"
      ],
      "metadata": {
        "id": "a-dCTxlUR07z"
      }
    },
    {
      "cell_type": "markdown",
      "source": [
        "Let's begin with logistic with Lasso attributes"
      ],
      "metadata": {
        "id": "YcmEzcO0xMFj"
      }
    },
    {
      "cell_type": "code",
      "source": [
        "from sklearn.model_selection import train_test_split, cross_val_score\n",
        "from sklearn import preprocessing\n",
        "from sklearn.preprocessing import StandardScaler\n",
        "from sklearn.linear_model import Lasso\n",
        "\n",
        "#Split the data\n",
        "\n",
        "X = spam_df[['word_freq_free:', 'char_freq_$:', 'word_freq_000:',\n",
        "             'word_freq_your:', 'word_freq_make:', 'capital_run_length_average:']]\n",
        "y = spam_df['spam']\n",
        "\n",
        "X_train, X_test, y_train, y_test = train_test_split(X, y, test_size=0.3, random_state=42)\n",
        "\n",
        "scaler = StandardScaler()\n",
        "X_train_scaled = scaler.fit_transform(X_train)\n",
        "X_test_scaled = scaler.transform(X_test)\n"
      ],
      "metadata": {
        "id": "ToFsj9n3xL6i"
      },
      "execution_count": null,
      "outputs": []
    },
    {
      "cell_type": "code",
      "source": [
        "from sklearn.linear_model import LogisticRegression\n",
        "from sklearn.metrics import classification_report, confusion_matrix, accuracy_score\n",
        "from sklearn.model_selection import cross_val_score\n",
        "\n",
        "logreg = LogisticRegression(C=100, penalty='l1',solver='liblinear').fit(X_train_scaled, y_train)\n",
        "\n",
        "predicted_vals = logreg.predict(X_test_scaled)\n",
        "print(\"logreg.predict: {}\".format(predicted_vals))\n",
        "\n",
        "print(\"logreg.coef_: {}\".format(logreg.coef_))\n",
        "print(\"Training set score: {:.6f}\".format(logreg.score(X_train_scaled, y_train)))\n"
      ],
      "metadata": {
        "colab": {
          "base_uri": "https://localhost:8080/"
        },
        "id": "wfQJPpHlxLxS",
        "outputId": "5a9f16eb-4f14-4d6c-d5d3-8bde5cac42e3"
      },
      "execution_count": null,
      "outputs": [
        {
          "output_type": "stream",
          "name": "stdout",
          "text": [
            "logreg.predict: [0 0 0 ... 0 1 0]\n",
            "logreg.coef_: [[ 1.04679195  1.65089618  1.62648994  0.63007366 -0.05775008  4.25203462]]\n",
            "Training set score: 0.833540\n"
          ]
        }
      ]
    },
    {
      "cell_type": "code",
      "source": [
        "print(\"Test set score: {:.6f}\".format(logreg.score(X_test_scaled, y_test)))\n",
        "\n",
        "print(\"\\nConfusion Matrix:\")\n",
        "print(confusion_matrix(y_test, predicted_vals))\n",
        "\n",
        "# Classification Report\n",
        "print(\"\\nClassification Report:\")\n",
        "print(classification_report(y_test, predicted_vals))\n",
        "\n",
        "#Accuracy test eror is of 17.5%\n"
      ],
      "metadata": {
        "colab": {
          "base_uri": "https://localhost:8080/"
        },
        "id": "7PKQvFksxLhC",
        "outputId": "7b6cc94f-074d-4e5b-f4f7-d0236cec6e61"
      },
      "execution_count": null,
      "outputs": [
        {
          "output_type": "stream",
          "name": "stdout",
          "text": [
            "Test set score: 0.825489\n",
            "\n",
            "Confusion Matrix:\n",
            "[[760  44]\n",
            " [197 380]]\n",
            "\n",
            "Classification Report:\n",
            "              precision    recall  f1-score   support\n",
            "\n",
            "           0       0.79      0.95      0.86       804\n",
            "           1       0.90      0.66      0.76       577\n",
            "\n",
            "    accuracy                           0.83      1381\n",
            "   macro avg       0.85      0.80      0.81      1381\n",
            "weighted avg       0.84      0.83      0.82      1381\n",
            "\n"
          ]
        }
      ]
    },
    {
      "cell_type": "code",
      "source": [
        "from sklearn.metrics import classification_report, confusion_matrix, accuracy_score\n",
        "\n",
        "scores = cross_val_score(logreg, X_train_scaled, y_train, cv=10)\n",
        "print(f\"Cross-validation mean score: {scores.mean():.6f}\")\n",
        "\n",
        "#Accuracy kfold eror is of 16.5%\n"
      ],
      "metadata": {
        "colab": {
          "base_uri": "https://localhost:8080/"
        },
        "id": "CWDJHd65xKFW",
        "outputId": "b2ee6021-abf1-4fc2-91e7-b654fab28109"
      },
      "execution_count": null,
      "outputs": [
        {
          "output_type": "stream",
          "name": "stdout",
          "text": [
            "Cross-validation mean score: 0.835093\n"
          ]
        }
      ]
    },
    {
      "cell_type": "markdown",
      "source": [
        "Stratified Knn"
      ],
      "metadata": {
        "id": "46K3ZJD9xyqg"
      }
    },
    {
      "cell_type": "code",
      "source": [
        "from sklearn.model_selection import train_test_split, cross_val_score\n",
        "from sklearn import preprocessing\n",
        "from sklearn.preprocessing import StandardScaler\n",
        "\n",
        "#Split the data\n",
        "\n",
        "X = spam_df[['word_freq_free:', 'char_freq_$:', 'word_freq_000:',\n",
        "             'word_freq_your:', 'word_freq_make:', 'capital_run_length_average:']]\n",
        "y = spam_df['spam']\n",
        "\n",
        "X_train, X_test, y_train, y_test = train_test_split(X, y, test_size=0.3, random_state=42)\n",
        "\n",
        "scaler = StandardScaler()\n",
        "X_train_scaled = scaler.fit_transform(X_train)\n",
        "X_test_scaled = scaler.transform(X_test)"
      ],
      "metadata": {
        "id": "w7ebtcl9x692"
      },
      "execution_count": null,
      "outputs": []
    },
    {
      "cell_type": "code",
      "source": [
        "from sklearn.neighbors import KNeighborsClassifier\n",
        "from sklearn.model_selection import StratifiedKFold\n",
        "from sklearn.model_selection import cross_val_score\n",
        "\n",
        "knn = KNeighborsClassifier(n_neighbors=10) # The parameters using GridSearch to produce results with more accuracy\n",
        "knn.fit(X_train_scaled, y_train)\n",
        "\n",
        "print(\"K-fold Training set score: {:.3f}\".format(knn.score(X_train_scaled, y_train)))\n"
      ],
      "metadata": {
        "colab": {
          "base_uri": "https://localhost:8080/"
        },
        "id": "S17vtielx6EV",
        "outputId": "19b832a0-261a-48ca-8fcc-54c1bad08db3"
      },
      "execution_count": null,
      "outputs": [
        {
          "output_type": "stream",
          "name": "stdout",
          "text": [
            "K-fold Training set score: 0.870\n"
          ]
        }
      ]
    },
    {
      "cell_type": "code",
      "source": [
        "y_pred = knn.predict(X_test_scaled)\n",
        "print(\"K-fold on Test Data:\", accuracy_score(y_test, y_pred))\n",
        "print(\"\\nConfusion Matrix:\\n\", confusion_matrix(y_test, y_pred))\n",
        "print(\"\\nClassification Report:\\n\", classification_report(y_test, y_pred))\n",
        "\n",
        "#Accuracy test eror is of 15.5%"
      ],
      "metadata": {
        "colab": {
          "base_uri": "https://localhost:8080/"
        },
        "id": "kGtZImv6x6Yw",
        "outputId": "4c9af76e-2f27-4bf0-a324-4ecd717893f3"
      },
      "execution_count": null,
      "outputs": [
        {
          "output_type": "stream",
          "name": "stdout",
          "text": [
            "K-fold on Test Data: 0.8457639391745112\n",
            "\n",
            "Confusion Matrix:\n",
            " [[752  52]\n",
            " [161 416]]\n",
            "\n",
            "Classification Report:\n",
            "               precision    recall  f1-score   support\n",
            "\n",
            "           0       0.82      0.94      0.88       804\n",
            "           1       0.89      0.72      0.80       577\n",
            "\n",
            "    accuracy                           0.85      1381\n",
            "   macro avg       0.86      0.83      0.84      1381\n",
            "weighted avg       0.85      0.85      0.84      1381\n",
            "\n"
          ]
        }
      ]
    },
    {
      "cell_type": "code",
      "source": [
        "print(\"StratifiedKFold:\\n{}\".format(\n",
        "cross_val_score(knn, X_train_scaled, y_train, cv=skfold).mean()))\n",
        "print(f\"Cross-validation mean score: {scores.mean():.3f}\")\n",
        "\n",
        "#Accuracy kfold eror is of 16.5%\n"
      ],
      "metadata": {
        "colab": {
          "base_uri": "https://localhost:8080/"
        },
        "id": "tNcPcht4yIV7",
        "outputId": "61ced3d1-eebe-4017-b911-e8849bb776d6"
      },
      "execution_count": null,
      "outputs": [
        {
          "output_type": "stream",
          "name": "stdout",
          "text": [
            "StratifiedKFold:\n",
            "0.8509316770186335\n",
            "Cross-validation mean score: 0.835\n"
          ]
        }
      ]
    },
    {
      "cell_type": "markdown",
      "source": [
        "Random Forest"
      ],
      "metadata": {
        "id": "h95qa92XyLLr"
      }
    },
    {
      "cell_type": "code",
      "source": [
        "from sklearn.model_selection import train_test_split, cross_val_score\n",
        "from sklearn.preprocessing import StandardScaler\n",
        "from sklearn.ensemble import RandomForestClassifier\n",
        "from sklearn import metrics\n",
        "X = spam_df[['word_freq_free:', 'char_freq_$:', 'word_freq_000:',\n",
        "             'word_freq_your:', 'word_freq_make:', 'capital_run_length_average:']]\n",
        "y = spam_df['spam']\n",
        "\n",
        "X_train, X_test, y_train, y_test = train_test_split(X, y, test_size=0.3, random_state=42)\n",
        "\n",
        "scaler = StandardScaler()\n",
        "X_train_scaled = scaler.fit_transform(X_train)\n",
        "X_test_scaled = scaler.transform(X_test)"
      ],
      "metadata": {
        "id": "R304puUuyNd6"
      },
      "execution_count": null,
      "outputs": []
    },
    {
      "cell_type": "code",
      "source": [
        "clf = RandomForestClassifier(n_estimators=100, random_state=42)\n",
        "clf.fit(X_train_scaled, y_train)\n",
        "clf.score(X_test_scaled,y_test)\n",
        "\n",
        "y_pred = clf.predict(X_test_scaled)\n",
        "\n",
        "print(\"Training set score: {:.3f}\".format(clf.score(X_train_scaled, y_train)))\n"
      ],
      "metadata": {
        "colab": {
          "base_uri": "https://localhost:8080/"
        },
        "id": "hwzPdWKsyhCA",
        "outputId": "a7f13c63-1518-4926-bc60-a79e3f8f1534"
      },
      "execution_count": null,
      "outputs": [
        {
          "output_type": "stream",
          "name": "stdout",
          "text": [
            "Training set score: 0.984\n"
          ]
        }
      ]
    },
    {
      "cell_type": "code",
      "source": [
        "y_pred = clf.predict(X_test_scaled)\n",
        "print(\"Test Set Accuracy:\", metrics.accuracy_score(y_test, y_pred))\n",
        "print(\"\\nConfusion Matrix on test set:\\n\", metrics.confusion_matrix(y_test, y_pred))\n",
        "print(\"\\nClassification Report on test set:\\n\", metrics.classification_report(y_test, y_pred))\n",
        "\n",
        "#Accuracy test eror is of 13.6%\n"
      ],
      "metadata": {
        "colab": {
          "base_uri": "https://localhost:8080/"
        },
        "id": "d2oyWi2Mym5d",
        "outputId": "4cadc8fe-95aa-4294-eeab-7ecd5c9778e7"
      },
      "execution_count": null,
      "outputs": [
        {
          "output_type": "stream",
          "name": "stdout",
          "text": [
            "Test Set Accuracy: 0.8645908761766835\n",
            "\n",
            "Confusion Matrix on test set:\n",
            " [[731  73]\n",
            " [114 463]]\n",
            "\n",
            "Classification Report on test set:\n",
            "               precision    recall  f1-score   support\n",
            "\n",
            "           0       0.87      0.91      0.89       804\n",
            "           1       0.86      0.80      0.83       577\n",
            "\n",
            "    accuracy                           0.86      1381\n",
            "   macro avg       0.86      0.86      0.86      1381\n",
            "weighted avg       0.86      0.86      0.86      1381\n",
            "\n"
          ]
        }
      ]
    },
    {
      "cell_type": "code",
      "source": [
        "cv_scores = cross_val_score(clf, X_train_scaled, y_train, cv=10)\n",
        "print(\"Mean CV Accuracy:\", cv_scores.mean())\n",
        "\n",
        "#Accuracy kfold eror is of 13.3%\n"
      ],
      "metadata": {
        "colab": {
          "base_uri": "https://localhost:8080/"
        },
        "id": "rRDLfZaNyi27",
        "outputId": "c842e816-41b4-4ef8-a22b-1cafba98785e"
      },
      "execution_count": null,
      "outputs": [
        {
          "output_type": "stream",
          "name": "stdout",
          "text": [
            "Mean CV Accuracy: 0.8677018633540372\n"
          ]
        }
      ]
    },
    {
      "cell_type": "markdown",
      "source": [
        "I consider the decision tree to be the best model, despite the random forest having a higher cv score and accuracy on the test data. First, there is much more possibility of overfit given the large gab between the training score of .984 and the test score of 0.86 in random forest, while decision tree has 0.887 and 0.8523 respectively. Futhemore, decison trees are easier to interpret and analyze when the program is binary, whereas random walk is more efficient in a program multivariables. Finally, the decision tree has a cv score of 0.865, close to the random forest of 0.867 so the differences is too noticeable. The main advantage of the random forest comes for its low prediction error on the test data of 13.6% against 14.8 for the decision tree.  This makes decision tree safer to recognize hidden variations accross the variables, aiding the machine to accuratly predict which mail is a spam."
      ],
      "metadata": {
        "id": "InS4QebJsTko"
      }
    },
    {
      "cell_type": "markdown",
      "source": [
        "14. What variable that currently is not in your model, if included, would be likely to increase your final model's predictive power?  For this answer try to speculate about a variable outside the variables available in the data that would improve you model.\n",
        "\n"
      ],
      "metadata": {
        "id": "RIwE-XbkR2Ij"
      }
    },
    {
      "cell_type": "markdown",
      "source": [
        "I would think on embedded links: If an email contains many links with a short url that changes its direction once clicked, it increases the likelihood of the email being spam.\n",
        "\n",
        "Other variables can include Email Read Duration (if quantifable), Sender Reputation (requires large amount of data) or user feedback (same issue)"
      ],
      "metadata": {
        "id": "lo9SWqTN1ZJ9"
      }
    },
    {
      "cell_type": "markdown",
      "source": [
        "15. Lastly, you have listed each of the models that we have learned to use to predict dependent variables like spam.  List each model we have focused on in class thus far that you could use to evaluate data with a continuous dependent variable.\n",
        "\n"
      ],
      "metadata": {
        "id": "p-eM-IHFR2-c"
      }
    },
    {
      "cell_type": "markdown",
      "source": [
        "The previous models we detailled were classification methods, particuliarly efficient to classify variables in different set of categories. This dataset, depite its unequal univariate distribution, has float values which are easier to use in a binary format. The context of this model was to build a machine distinguishing mails from spams. Hence, classifier methods were perfect to calculate the probability of reaching either 0 or 1 for the float values (easily convertible) and with logarithmic-related methods to keep probabilit wihtin a binary interval. In other words, classifier were the right models for analyzing a discrete set of random observations, which is the target value spam of either 0 or 1.\n",
        "\n",
        "Continous variables can have an infinite number of numbers which can take any value within any particular range. Continous are especially interesting in regression analysis, or in predicting models with advanced methods of probability in their hyperparameters such as in Bayesian statistics.\n",
        "\n",
        "In the case of Machine Learning, we uncovered many model for continous:\n",
        "\n",
        "Linear Regression: This is the most fundamental regression model, which assumes a linear relationship between the independent variables and the dependent variable.\n",
        "\n",
        "Ridge Regression (L2 regularization): A variant of linear regression that includes a regularization term. The regularization term discourages overly complex models which can lead to overfitting.\n",
        "\n",
        "Lasso Regression (L1 regularization): Another variant of linear regression with a regularization term that can lead to some feature coefficients becoming exactly zero, effectively selecting a simpler model that doesn't include those features.\n",
        "\n",
        "Decision Trees for Regression: Decision trees can be used for regression tasks by assigning a continuous value to each leaf, typically the mean of the target values for the instances that reach that leaf.\n",
        "\n",
        "Random Forest for Regression: An ensemble method that combines the predictions of multiple decision trees.\n",
        "\n",
        "K-Nearest Neighbors (KNN) for Regression: Instead of voting on a classification label, neighbors can average their values for regression predictions.\n",
        "\n",
        "Support Vector Machines for Regression (SVR): SVMs can be adapted for regression tasks, often by using a different loss function (like the ε-insensitive loss).\n"
      ],
      "metadata": {
        "id": "pL0TGA532Ox1"
      }
    }
  ]
}